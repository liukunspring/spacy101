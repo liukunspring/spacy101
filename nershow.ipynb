{
 "cells": [
  {
   "cell_type": "code",
   "execution_count": 1,
   "metadata": {},
   "outputs": [],
   "source": [
    "import spacy\n",
    "from spacy.language import Language\n",
    "import os \n",
    "from tokenStar import tokennizers_spacy\n",
    "from config import PROJECT_ROOT\n",
    "def build_nlp_instance()->Language:\n",
    "    nlp = spacy.blank(\"en\")\n",
    "    ner=nlp.add_pipe('ner')\n",
    "    ner.add_label(\"TID\")\n",
    "    ner.add_label(\"ORG\")\n",
    "    ner.add_label(\"IP_ADDRESS\")\n",
    "    ner.add_label(\"LOCATION\")\n",
    "    nlp.initialize()\n",
    "    nlp.tokenizer = tokennizers_spacy.BertTokenizer(nlp.vocab,os.path.join(PROJECT_ROOT, \"applog-tokenizer.json\"))\n",
    "    nlp.add_pipe(\"thread_tid_entities\", before=\"ner\")\n",
    "    nlp.add_pipe(\"ip_address_entity\",before=\"thread_tid_entities\")\n",
    "    return nlp\n"
   ]
  },
  {
   "cell_type": "code",
   "execution_count": 2,
   "metadata": {},
   "outputs": [
    {
     "name": "stdout",
     "output_type": "stream",
     "text": [
      "text 12-17 19:31:36.314 31949 31967 i espaceservice: watchthread{4786} tcpcirchannel.shutdown(tcpcirchannel.java:257) login_by_step-> shut down now connect \n",
      "[]\n",
      "4786\n",
      "[4786]\n"
     ]
    },
    {
     "data": {
      "text/html": [
       "<span class=\"tex2jax_ignore\"><div class=\"entities\" style=\"line-height: 2.5; direction: ltr\">12-17 19:31:36.314 31949 31967 i espaceservice: watchthread{\n",
       "<mark class=\"entity\" style=\"background: #ddd; padding: 0.45em 0.6em; margin: 0 0.25em; line-height: 1; border-radius: 0.35em;\">\n",
       "    4786\n",
       "    <span style=\"font-size: 0.8em; font-weight: bold; line-height: 1; border-radius: 0.35em; vertical-align: middle; margin-left: 0.5rem\">TID</span>\n",
       "</mark>\n",
       "} tcpcirchannel.shutdown(tcpcirchannel.java:257) login_by_step-&gt; shut down now connect </div></span>"
      ]
     },
     "metadata": {},
     "output_type": "display_data"
    }
   ],
   "source": [
    "import spacy\n",
    "\n",
    "nlp=build_nlp_instance()\n",
    "doc = nlp(\"12-17 19:31:36.314 31949 31967 I eSpaceService: WatchThread{4786} TcpCirChannel.shutdown(TcpCirChannel.java:257) Login_By_Step-> shut down now connect\")\n",
    "spacy.displacy.render(doc, style=\"ent\", jupyter=True)"
   ]
  },
  {
   "cell_type": "code",
   "execution_count": 3,
   "metadata": {},
   "outputs": [
    {
     "name": "stdout",
     "output_type": "stream",
     "text": [
      "text 12-17 19:31:36.359 31949 31967 i pushservice: tcp.conn{4787} servicec.connectednotify(servicec.java:289) 172.30.70.63 \n",
      "172.30.70.63\n",
      "[172.30.70.63]\n",
      "4787\n",
      "[172.30.70.63, 4787]\n"
     ]
    },
    {
     "data": {
      "text/html": [
       "<span class=\"tex2jax_ignore\"><div class=\"entities\" style=\"line-height: 2.5; direction: ltr\">12-17 19:31:36.359 31949 31967 i pushservice: tcp.conn{\n",
       "<mark class=\"entity\" style=\"background: #ddd; padding: 0.45em 0.6em; margin: 0 0.25em; line-height: 1; border-radius: 0.35em;\">\n",
       "    4787\n",
       "    <span style=\"font-size: 0.8em; font-weight: bold; line-height: 1; border-radius: 0.35em; vertical-align: middle; margin-left: 0.5rem\">TID</span>\n",
       "</mark>\n",
       "} servicec.connectednotify(servicec.java:289) \n",
       "<mark class=\"entity\" style=\"background: #ddd; padding: 0.45em 0.6em; margin: 0 0.25em; line-height: 1; border-radius: 0.35em;\">\n",
       "    172.30.70.63\n",
       "    <span style=\"font-size: 0.8em; font-weight: bold; line-height: 1; border-radius: 0.35em; vertical-align: middle; margin-left: 0.5rem\">IP_ADDRESS</span>\n",
       "</mark>\n",
       " </div></span>"
      ]
     },
     "metadata": {},
     "output_type": "display_data"
    }
   ],
   "source": [
    "doc = nlp(\"12-17 19:31:36.359 31949 31967 I PushService: tcp.conn{4787} ServiceC.connectedNotify(ServiceC.java:289) 172.30.70.63\")\n",
    "spacy.displacy.render(doc, style=\"ent\", jupyter=True)"
   ]
  },
  {
   "cell_type": "code",
   "execution_count": 4,
   "metadata": {},
   "outputs": [
    {
     "name": "stdout",
     "output_type": "stream",
     "text": [
      "text 12-17 19:31:36.344 31949 31967 i tcp : tcp.conn{4787} tcpsocket.connect_i(tcpsocket.java:84) connecting to ip address uc.huawei.com/172.30.70.63 \n",
      "172.30.70.63\n",
      "[172.30.70.63]\n",
      "4787\n",
      "[172.30.70.63, 4787]\n"
     ]
    },
    {
     "data": {
      "text/html": [
       "<span class=\"tex2jax_ignore\"><div class=\"entities\" style=\"line-height: 2.5; direction: ltr\">12-17 19:31:36.344 31949 31967 i tcp : tcp.conn{\n",
       "<mark class=\"entity\" style=\"background: #ddd; padding: 0.45em 0.6em; margin: 0 0.25em; line-height: 1; border-radius: 0.35em;\">\n",
       "    4787\n",
       "    <span style=\"font-size: 0.8em; font-weight: bold; line-height: 1; border-radius: 0.35em; vertical-align: middle; margin-left: 0.5rem\">TID</span>\n",
       "</mark>\n",
       "} tcpsocket.connect_i(tcpsocket.java:84) connecting to ip address uc.huawei.com/\n",
       "<mark class=\"entity\" style=\"background: #ddd; padding: 0.45em 0.6em; margin: 0 0.25em; line-height: 1; border-radius: 0.35em;\">\n",
       "    172.30.70.63\n",
       "    <span style=\"font-size: 0.8em; font-weight: bold; line-height: 1; border-radius: 0.35em; vertical-align: middle; margin-left: 0.5rem\">IP_ADDRESS</span>\n",
       "</mark>\n",
       " </div></span>"
      ]
     },
     "metadata": {},
     "output_type": "display_data"
    }
   ],
   "source": [
    "text=\"12-17 19:31:36.344 31949 31967 I TCP     : tcp.conn{4787} TcpSocket.connect_i(TcpSocket.java:84) connecting to ip address uc.huawei.com/172.30.70.63\"\n",
    "doc = nlp(text)\n",
    "spacy.displacy.render(doc, style=\"ent\", jupyter=True)\n"
   ]
  }
 ],
 "metadata": {
  "kernelspec": {
   "display_name": "venv",
   "language": "python",
   "name": "python3"
  },
  "language_info": {
   "codemirror_mode": {
    "name": "ipython",
    "version": 3
   },
   "file_extension": ".py",
   "mimetype": "text/x-python",
   "name": "python",
   "nbconvert_exporter": "python",
   "pygments_lexer": "ipython3",
   "version": "3.12.9"
  }
 },
 "nbformat": 4,
 "nbformat_minor": 2
}
