{
 "cells": [
  {
   "cell_type": "code",
   "execution_count": 1,
   "metadata": {},
   "outputs": [],
   "source": [
    "import spacy\n",
    "from spacy.language import Language\n",
    "import os \n",
    "from tokenStar import tokennizers_spacy\n",
    "from config import PROJECT_ROOT\n",
    "def build_nlp_instance()->Language:\n",
    "    nlp = spacy.blank(\"en\")\n",
    "    ner=nlp.add_pipe('ner')\n",
    "    ner.add_label(\"TID\")\n",
    "    ner.add_label(\"ORG\")\n",
    "    ner.add_label(\"IP_ADDRESS\")\n",
    "    ner.add_label(\"LOCATION\")\n",
    "    ner.add_label(\"FLOAT_NUMER\")\n",
    "    nlp.initialize()\n",
    "    nlp.tokenizer = tokennizers_spacy.BertTokenizer(nlp.vocab,os.path.join(PROJECT_ROOT, \"applog-tokenizer.json\"))\n",
    "    nlp.add_pipe(\"thread_tid_entities\", before=\"ner\")\n",
    "    nlp.add_pipe(\"ip_address_entity\",before=\"thread_tid_entities\")\n",
    "    nlp.add_pipe(\"float_number_entity\",before=\"ip_address_entity\")\n",
    "    return nlp\n"
   ]
  },
  {
   "cell_type": "code",
   "execution_count": 2,
   "metadata": {},
   "outputs": [
    {
     "name": "stdout",
     "output_type": "stream",
     "text": [
      "text i espaceservice: watchthread {4786} tcpcirchannel.shutdown(tcpcirchannel.java:257) login_by_step-> shut down now connect \n",
      "[]\n",
      "[]\n",
      "4786\n",
      "[4786]\n"
     ]
    },
    {
     "data": {
      "text/html": [
       "<span class=\"tex2jax_ignore\"><div class=\"entities\" style=\"line-height: 2.5; direction: ltr\">i espaceservice: watchthread {\n",
       "<mark class=\"entity\" style=\"background: #ddd; padding: 0.45em 0.6em; margin: 0 0.25em; line-height: 1; border-radius: 0.35em;\">\n",
       "    4786\n",
       "    <span style=\"font-size: 0.8em; font-weight: bold; line-height: 1; border-radius: 0.35em; vertical-align: middle; margin-left: 0.5rem\">TID</span>\n",
       "</mark>\n",
       "} tcpcirchannel.shutdown(tcpcirchannel.java:257) login_by_step-&gt; shut down now connect </div></span>"
      ]
     },
     "metadata": {},
     "output_type": "display_data"
    }
   ],
   "source": [
    "import spacy\n",
    "\n",
    "nlp=build_nlp_instance()\n",
    "doc = nlp(\"I eSpaceService: WatchThread {4786} TcpCirChannel.shutdown(TcpCirChannel.java:257) Login_By_Step-> shut down now connect\")\n",
    "spacy.displacy.render(doc, style=\"ent\", jupyter=True)"
   ]
  },
  {
   "cell_type": "code",
   "execution_count": 3,
   "metadata": {},
   "outputs": [
    {
     "name": "stdout",
     "output_type": "stream",
     "text": [
      "text i pushservice: tcp.conn{4787} servicec.connectednotify(servicec.java:289) 172.30.70.63 \n",
      "<re.Match object; span=(73, 80), match=' 172.30'>\n",
      "[]\n",
      "ip_address_entity: 172.30.70.63\n",
      "[172.30.70.63]\n",
      "4787\n",
      "[172.30.70.63, 4787]\n"
     ]
    },
    {
     "data": {
      "text/html": [
       "<span class=\"tex2jax_ignore\"><div class=\"entities\" style=\"line-height: 2.5; direction: ltr\">i pushservice: tcp.conn{\n",
       "<mark class=\"entity\" style=\"background: #ddd; padding: 0.45em 0.6em; margin: 0 0.25em; line-height: 1; border-radius: 0.35em;\">\n",
       "    4787\n",
       "    <span style=\"font-size: 0.8em; font-weight: bold; line-height: 1; border-radius: 0.35em; vertical-align: middle; margin-left: 0.5rem\">TID</span>\n",
       "</mark>\n",
       "} servicec.connectednotify(servicec.java:289) \n",
       "<mark class=\"entity\" style=\"background: #ddd; padding: 0.45em 0.6em; margin: 0 0.25em; line-height: 1; border-radius: 0.35em;\">\n",
       "    172.30.70.63\n",
       "    <span style=\"font-size: 0.8em; font-weight: bold; line-height: 1; border-radius: 0.35em; vertical-align: middle; margin-left: 0.5rem\">IP_ADDRESS</span>\n",
       "</mark>\n",
       " </div></span>"
      ]
     },
     "metadata": {},
     "output_type": "display_data"
    }
   ],
   "source": [
    "doc = nlp(\" I PushService: tcp.conn{4787} ServiceC.connectedNotify(ServiceC.java:289) 172.30.70.63\")\n",
    "spacy.displacy.render(doc, style=\"ent\", jupyter=True)"
   ]
  },
  {
   "cell_type": "code",
   "execution_count": 4,
   "metadata": {},
   "outputs": [
    {
     "name": "stdout",
     "output_type": "stream",
     "text": [
      "text 12-17 19:31:36.344 31949 31967 i tcp : tcp.conn{4787} tcpsocket.connect_i(tcpsocket.java:84) connecting to ip address uc.huawei.com/172.30.70.63 \n",
      "<re.Match object; span=(11, 19), match=':36.344 '>\n",
      "[36.344]\n",
      "ip_address_entity: 172.30.70.63\n",
      "[36.344, 172.30.70.63]\n",
      "4787\n",
      "[36.344, 172.30.70.63, 4787]\n"
     ]
    },
    {
     "data": {
      "text/html": [
       "<span class=\"tex2jax_ignore\"><div class=\"entities\" style=\"line-height: 2.5; direction: ltr\">12-17 19:31:\n",
       "<mark class=\"entity\" style=\"background: #ddd; padding: 0.45em 0.6em; margin: 0 0.25em; line-height: 1; border-radius: 0.35em;\">\n",
       "    36.344\n",
       "    <span style=\"font-size: 0.8em; font-weight: bold; line-height: 1; border-radius: 0.35em; vertical-align: middle; margin-left: 0.5rem\">FLOAT_NUMER</span>\n",
       "</mark>\n",
       " 31949 31967 i tcp : tcp.conn{\n",
       "<mark class=\"entity\" style=\"background: #ddd; padding: 0.45em 0.6em; margin: 0 0.25em; line-height: 1; border-radius: 0.35em;\">\n",
       "    4787\n",
       "    <span style=\"font-size: 0.8em; font-weight: bold; line-height: 1; border-radius: 0.35em; vertical-align: middle; margin-left: 0.5rem\">TID</span>\n",
       "</mark>\n",
       "} tcpsocket.connect_i(tcpsocket.java:84) connecting to ip address uc.huawei.com/\n",
       "<mark class=\"entity\" style=\"background: #ddd; padding: 0.45em 0.6em; margin: 0 0.25em; line-height: 1; border-radius: 0.35em;\">\n",
       "    172.30.70.63\n",
       "    <span style=\"font-size: 0.8em; font-weight: bold; line-height: 1; border-radius: 0.35em; vertical-align: middle; margin-left: 0.5rem\">IP_ADDRESS</span>\n",
       "</mark>\n",
       " </div></span>"
      ]
     },
     "metadata": {},
     "output_type": "display_data"
    }
   ],
   "source": [
    "text=\"12-17 19:31:36.344 31949 31967 I TCP     : tcp.conn{4787} TcpSocket.connect_i(TcpSocket.java:84) connecting to ip address uc.huawei.com/172.30.70.63\"\n",
    "doc = nlp(text)\n",
    "spacy.displacy.render(doc, style=\"ent\")"
   ]
  },
  {
   "cell_type": "code",
   "execution_count": 5,
   "metadata": {},
   "outputs": [
    {
     "name": "stdout",
     "output_type": "stream",
     "text": [
      "text qti_sensors_hal: [acc]processreportind: x: 7.747251 y: 5.252448 z: 1.298289 x_offset:0.160831 y_offset:0.184366 z_offset:0.9850273 \n",
      "<re.Match object; span=(41, 52), match=': 7.747251 '>\n",
      "<re.Match object; span=(53, 64), match=': 5.252448 '>\n",
      "<re.Match object; span=(65, 76), match=': 1.298289 '>\n",
      "<re.Match object; span=(84, 94), match=':0.160831 '>\n",
      "<re.Match object; span=(102, 112), match=':0.184366 '>\n",
      "<re.Match object; span=(120, 131), match=':0.9850273 '>\n",
      "[7.747251, 5.252448, 1.298289, 0.160831, 0.184366, 0.9850273]\n",
      "[7.747251, 5.252448, 1.298289, 0.160831, 0.184366, 0.9850273]\n",
      "[7.747251, 5.252448, 1.298289, 0.160831, 0.184366, 0.9850273]\n"
     ]
    },
    {
     "data": {
      "text/html": [
       "<span class=\"tex2jax_ignore\"><div class=\"entities\" style=\"line-height: 2.5; direction: ltr\">qti_sensors_hal: [acc]processreportind: x: \n",
       "<mark class=\"entity\" style=\"background: #ddd; padding: 0.45em 0.6em; margin: 0 0.25em; line-height: 1; border-radius: 0.35em;\">\n",
       "    7.747251\n",
       "    <span style=\"font-size: 0.8em; font-weight: bold; line-height: 1; border-radius: 0.35em; vertical-align: middle; margin-left: 0.5rem\">FLOAT_NUMER</span>\n",
       "</mark>\n",
       " y: \n",
       "<mark class=\"entity\" style=\"background: #ddd; padding: 0.45em 0.6em; margin: 0 0.25em; line-height: 1; border-radius: 0.35em;\">\n",
       "    5.252448\n",
       "    <span style=\"font-size: 0.8em; font-weight: bold; line-height: 1; border-radius: 0.35em; vertical-align: middle; margin-left: 0.5rem\">FLOAT_NUMER</span>\n",
       "</mark>\n",
       " z: \n",
       "<mark class=\"entity\" style=\"background: #ddd; padding: 0.45em 0.6em; margin: 0 0.25em; line-height: 1; border-radius: 0.35em;\">\n",
       "    1.298289\n",
       "    <span style=\"font-size: 0.8em; font-weight: bold; line-height: 1; border-radius: 0.35em; vertical-align: middle; margin-left: 0.5rem\">FLOAT_NUMER</span>\n",
       "</mark>\n",
       " x_offset:\n",
       "<mark class=\"entity\" style=\"background: #ddd; padding: 0.45em 0.6em; margin: 0 0.25em; line-height: 1; border-radius: 0.35em;\">\n",
       "    0.160831\n",
       "    <span style=\"font-size: 0.8em; font-weight: bold; line-height: 1; border-radius: 0.35em; vertical-align: middle; margin-left: 0.5rem\">FLOAT_NUMER</span>\n",
       "</mark>\n",
       " y_offset:\n",
       "<mark class=\"entity\" style=\"background: #ddd; padding: 0.45em 0.6em; margin: 0 0.25em; line-height: 1; border-radius: 0.35em;\">\n",
       "    0.184366\n",
       "    <span style=\"font-size: 0.8em; font-weight: bold; line-height: 1; border-radius: 0.35em; vertical-align: middle; margin-left: 0.5rem\">FLOAT_NUMER</span>\n",
       "</mark>\n",
       " z_offset:\n",
       "<mark class=\"entity\" style=\"background: #ddd; padding: 0.45em 0.6em; margin: 0 0.25em; line-height: 1; border-radius: 0.35em;\">\n",
       "    0.9850273\n",
       "    <span style=\"font-size: 0.8em; font-weight: bold; line-height: 1; border-radius: 0.35em; vertical-align: middle; margin-left: 0.5rem\">FLOAT_NUMER</span>\n",
       "</mark>\n",
       " </div></span>"
      ]
     },
     "metadata": {},
     "output_type": "display_data"
    }
   ],
   "source": [
    "text=\"qti_sensors_hal: [ACC]processReportInd: X: 7.747251 Y: 5.252448 Z: 1.298289  x_offset:0.160831 y_offset:0.184366 z_offset:0.9850273\"\n",
    "doc = nlp(text)\n",
    "spacy.displacy.render(doc, style=\"ent\")"
   ]
  },
  {
   "cell_type": "code",
   "execution_count": null,
   "metadata": {},
   "outputs": [
    {
     "name": "stdout",
     "output_type": "stream",
     "text": [
      "text stackscrollalgorithm: overlapamount:763.6, previousnotificationend:607.0, newytranslation:-156.59998, location:2, i:1, gettoppadding:499.0, getlocationonscreen():-36 \n",
      "<re.Match object; span=(35, 42), match=':763.6,'>\n",
      "<re.Match object; span=(66, 73), match=':607.0,'>\n",
      "<re.Match object; span=(132, 139), match=':499.0,'>\n",
      "[763.6, 607.0, 499.0]\n",
      "[763.6, 607.0, 499.0]\n",
      "[763.6, 607.0, 499.0]\n"
     ]
    },
    {
     "data": {
      "text/html": [
       "<span class=\"tex2jax_ignore\"><div class=\"entities\" style=\"line-height: 2.5; direction: ltr\">stackscrollalgorithm: overlapamount:\n",
       "<mark class=\"entity\" style=\"background: #ddd; padding: 0.45em 0.6em; margin: 0 0.25em; line-height: 1; border-radius: 0.35em;\">\n",
       "    763.6\n",
       "    <span style=\"font-size: 0.8em; font-weight: bold; line-height: 1; border-radius: 0.35em; vertical-align: middle; margin-left: 0.5rem\">FLOAT_NUMER</span>\n",
       "</mark>\n",
       ", previousnotificationend:\n",
       "<mark class=\"entity\" style=\"background: #ddd; padding: 0.45em 0.6em; margin: 0 0.25em; line-height: 1; border-radius: 0.35em;\">\n",
       "    607.0\n",
       "    <span style=\"font-size: 0.8em; font-weight: bold; line-height: 1; border-radius: 0.35em; vertical-align: middle; margin-left: 0.5rem\">FLOAT_NUMER</span>\n",
       "</mark>\n",
       ", newytranslation:-156.59998, location:2, i:1, gettoppadding:\n",
       "<mark class=\"entity\" style=\"background: #ddd; padding: 0.45em 0.6em; margin: 0 0.25em; line-height: 1; border-radius: 0.35em;\">\n",
       "    499.0\n",
       "    <span style=\"font-size: 0.8em; font-weight: bold; line-height: 1; border-radius: 0.35em; vertical-align: middle; margin-left: 0.5rem\">FLOAT_NUMER</span>\n",
       "</mark>\n",
       ", getlocationonscreen():-36 </div></span>"
      ]
     },
     "metadata": {},
     "output_type": "display_data"
    }
   ],
   "source": [
    "text=\"StackScrollAlgorithm: overlapAmount:763.6, previousNotificationEnd:607.0, newYTranslation:-156.59998, location:2, i:1, getTopPadding:499.0, getLocationOnScreen():-36\"\n",
    "doc = nlp(text)\n",
    "spacy.displacy.render(doc, style=\"ent\")"
   ]
  },
  {
   "cell_type": "code",
   "execution_count": 7,
   "metadata": {},
   "outputs": [
    {
     "name": "stdout",
     "output_type": "stream",
     "text": [
      "text 12-17 19:31:38.256 1795 2668 e hwwifip2pservice: unhandled message when=123011428 what=143466 arg1=0 arg2=0 \n",
      "<re.Match object; span=(11, 19), match=':38.256 '>\n",
      "[38.256]\n",
      "[38.256]\n",
      "[38.256]\n"
     ]
    },
    {
     "data": {
      "text/html": [
       "<span class=\"tex2jax_ignore\"><div class=\"entities\" style=\"line-height: 2.5; direction: ltr\">12-17 19:31:\n",
       "<mark class=\"entity\" style=\"background: #ddd; padding: 0.45em 0.6em; margin: 0 0.25em; line-height: 1; border-radius: 0.35em;\">\n",
       "    38.256\n",
       "    <span style=\"font-size: 0.8em; font-weight: bold; line-height: 1; border-radius: 0.35em; vertical-align: middle; margin-left: 0.5rem\">FLOAT_NUMER</span>\n",
       "</mark>\n",
       " 1795 2668 e hwwifip2pservice: unhandled message when=123011428 what=143466 arg1=0 arg2=0 </div></span>"
      ]
     },
     "metadata": {},
     "output_type": "display_data"
    }
   ],
   "source": [
    "text=\"12-17 19:31:38.256  1795  2668 E HwWifiP2pService: Unhandled message when=123011428 what=143466 arg1=0 arg2=0\"\n",
    "doc = nlp(text)\n",
    "spacy.displacy.render(doc, style=\"ent\")"
   ]
  }
 ],
 "metadata": {
  "kernelspec": {
   "display_name": "venv",
   "language": "python",
   "name": "python3"
  },
  "language_info": {
   "codemirror_mode": {
    "name": "ipython",
    "version": 3
   },
   "file_extension": ".py",
   "mimetype": "text/x-python",
   "name": "python",
   "nbconvert_exporter": "python",
   "pygments_lexer": "ipython3",
   "version": "3.12.9"
  }
 },
 "nbformat": 4,
 "nbformat_minor": 2
}
