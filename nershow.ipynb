{
 "cells": [
  {
   "cell_type": "code",
   "execution_count": 1,
   "metadata": {},
   "outputs": [],
   "source": [
    "import spacy\n",
    "from spacy.language import Language\n",
    "import os \n",
    "from tokenStar import tokennizers_spacy\n",
    "from config import PROJECT_ROOT\n",
    "def build_nlp_instance()->Language:\n",
    "    nlp = spacy.blank(\"en\")\n",
    "    ner=nlp.add_pipe('ner')\n",
    "    ner.add_label(\"TID\")\n",
    "    ner.add_label(\"ORG\")\n",
    "    ner.add_label(\"IP_ADDRESS\")\n",
    "    ner.add_label(\"LOCATION\")\n",
    "    ner.add_label(\"FLOAT_NUMER\")\n",
    "    ner.add_label(\"COMMON_NUMER\")\n",
    "    nlp.initialize()\n",
    "    nlp.tokenizer = tokennizers_spacy.BertTokenizer(nlp.vocab,os.path.join(PROJECT_ROOT, \"applog-tokenizer.json\"))\n",
    "    nlp.add_pipe(\"thread_tid_entities\", before=\"ner\")\n",
    "    nlp.add_pipe(\"ip_address_entity\",before=\"thread_tid_entities\")\n",
    "    nlp.add_pipe(\"float_number_entity\",before=\"ip_address_entity\")\n",
    "    nlp.add_pipe(\"common_number_entity\",before=\"ip_address_entity\")\n",
    "    return nlp\n"
   ]
  },
  {
   "cell_type": "code",
   "execution_count": 2,
   "metadata": {},
   "outputs": [
    {
     "name": "stdout",
     "output_type": "stream",
     "text": [
      "text i espaceservice: watchthread {4786} tcpcirchannel.shutdown(tcpcirchannel.java:257) login_by_step-> shut down now connect \n",
      "text i espaceservice: watchthread {4786} tcpcirchannel.shutdown(tcpcirchannel.java:257) login_by_step-> shut down now connect \n",
      "<re.Match object; span=(77, 82), match=':257)'>\n",
      "float_number_entity 257\n",
      "4786\n"
     ]
    },
    {
     "data": {
      "text/html": [
       "<span class=\"tex2jax_ignore\"><div class=\"entities\" style=\"line-height: 2.5; direction: ltr\">i espaceservice: watchthread {\n",
       "<mark class=\"entity\" style=\"background: #ddd; padding: 0.45em 0.6em; margin: 0 0.25em; line-height: 1; border-radius: 0.35em;\">\n",
       "    4786\n",
       "    <span style=\"font-size: 0.8em; font-weight: bold; line-height: 1; border-radius: 0.35em; vertical-align: middle; margin-left: 0.5rem\">TID</span>\n",
       "</mark>\n",
       "} tcpcirchannel.shutdown(tcpcirchannel.java:\n",
       "<mark class=\"entity\" style=\"background: #ddd; padding: 0.45em 0.6em; margin: 0 0.25em; line-height: 1; border-radius: 0.35em;\">\n",
       "    257\n",
       "    <span style=\"font-size: 0.8em; font-weight: bold; line-height: 1; border-radius: 0.35em; vertical-align: middle; margin-left: 0.5rem\">COMMON_NUMER</span>\n",
       "</mark>\n",
       ") login_by_step-&gt; shut down now connect </div></span>"
      ]
     },
     "metadata": {},
     "output_type": "display_data"
    }
   ],
   "source": [
    "import spacy\n",
    "\n",
    "nlp=build_nlp_instance()\n",
    "doc = nlp(\"I eSpaceService: WatchThread {4786} TcpCirChannel.shutdown(TcpCirChannel.java:257) Login_By_Step-> shut down now connect\")\n",
    "spacy.displacy.render(doc, style=\"ent\", jupyter=True)"
   ]
  },
  {
   "cell_type": "code",
   "execution_count": 3,
   "metadata": {},
   "outputs": [
    {
     "name": "stdout",
     "output_type": "stream",
     "text": [
      "text i pushservice: tcp.conn{4787} servicec.connectednotify(servicec.java:289) 172.30.70.63 \n",
      "<re.Match object; span=(73, 80), match=' 172.30'>\n",
      "text i pushservice: tcp.conn{4787} servicec.connectednotify(servicec.java:289) 172.30.70.63 \n",
      "<re.Match object; span=(68, 73), match=':289)'>\n",
      "float_number_entity 289\n",
      "<re.Match object; span=(73, 77), match=' 172'>\n",
      "ip_address_entity: 172.30.70.63\n",
      "4787\n"
     ]
    },
    {
     "data": {
      "text/html": [
       "<span class=\"tex2jax_ignore\"><div class=\"entities\" style=\"line-height: 2.5; direction: ltr\">i pushservice: tcp.conn{\n",
       "<mark class=\"entity\" style=\"background: #ddd; padding: 0.45em 0.6em; margin: 0 0.25em; line-height: 1; border-radius: 0.35em;\">\n",
       "    4787\n",
       "    <span style=\"font-size: 0.8em; font-weight: bold; line-height: 1; border-radius: 0.35em; vertical-align: middle; margin-left: 0.5rem\">TID</span>\n",
       "</mark>\n",
       "} servicec.connectednotify(servicec.java:\n",
       "<mark class=\"entity\" style=\"background: #ddd; padding: 0.45em 0.6em; margin: 0 0.25em; line-height: 1; border-radius: 0.35em;\">\n",
       "    289\n",
       "    <span style=\"font-size: 0.8em; font-weight: bold; line-height: 1; border-radius: 0.35em; vertical-align: middle; margin-left: 0.5rem\">COMMON_NUMER</span>\n",
       "</mark>\n",
       ") \n",
       "<mark class=\"entity\" style=\"background: #ddd; padding: 0.45em 0.6em; margin: 0 0.25em; line-height: 1; border-radius: 0.35em;\">\n",
       "    172.30.70.63\n",
       "    <span style=\"font-size: 0.8em; font-weight: bold; line-height: 1; border-radius: 0.35em; vertical-align: middle; margin-left: 0.5rem\">IP_ADDRESS</span>\n",
       "</mark>\n",
       " </div></span>"
      ]
     },
     "metadata": {},
     "output_type": "display_data"
    }
   ],
   "source": [
    "doc = nlp(\" I PushService: tcp.conn{4787} ServiceC.connectedNotify(ServiceC.java:289) 172.30.70.63\")\n",
    "spacy.displacy.render(doc, style=\"ent\", jupyter=True)"
   ]
  },
  {
   "cell_type": "code",
   "execution_count": 4,
   "metadata": {},
   "outputs": [
    {
     "name": "stdout",
     "output_type": "stream",
     "text": [
      "text i powermanager_screenon: displaypowerstatesetcolorfadelevel: level=1.03 \n",
      "<re.Match object; span=(66, 72), match='=1.03 '>\n",
      "float_number_entity 1.03\n",
      "text i powermanager_screenon: displaypowerstatesetcolorfadelevel: level=1.03 \n"
     ]
    },
    {
     "data": {
      "text/html": [
       "<span class=\"tex2jax_ignore\"><div class=\"entities\" style=\"line-height: 2.5; direction: ltr\">i powermanager_screenon: displaypowerstatesetcolorfadelevel: level=\n",
       "<mark class=\"entity\" style=\"background: #ddd; padding: 0.45em 0.6em; margin: 0 0.25em; line-height: 1; border-radius: 0.35em;\">\n",
       "    1.03\n",
       "    <span style=\"font-size: 0.8em; font-weight: bold; line-height: 1; border-radius: 0.35em; vertical-align: middle; margin-left: 0.5rem\">FLOAT_NUMER</span>\n",
       "</mark>\n",
       " </div></span>"
      ]
     },
     "metadata": {},
     "output_type": "display_data"
    }
   ],
   "source": [
    "doc = nlp(\"I PowerManager_screenOn: DisplayPowerStatesetColorFadeLevel: level=1.03\")\n",
    "spacy.displacy.render(doc, style=\"ent\", jupyter=True)"
   ]
  },
  {
   "cell_type": "code",
   "execution_count": 5,
   "metadata": {},
   "outputs": [
    {
     "name": "stdout",
     "output_type": "stream",
     "text": [
      "text 12-17 19:31:36.344 31949 31967 i tcp : tcp.conn{4787} tcpsocket.connect_i(tcpsocket.java:84) connecting to ip address uc.huawei.com/172.30.70.63 \n",
      "<re.Match object; span=(11, 19), match=':36.344 '>\n",
      "float_number_entity 36.344\n",
      "text 12-17 19:31:36.344 31949 31967 i tcp : tcp.conn{4787} tcpsocket.connect_i(tcpsocket.java:84) connecting to ip address uc.huawei.com/172.30.70.63 \n",
      "<re.Match object; span=(5, 9), match=' 19:'>\n",
      "float_number_entity 19\n",
      "<re.Match object; span=(11, 14), match=':36'>\n",
      "<re.Match object; span=(18, 25), match=' 31949 '>\n",
      "float_number_entity 31949\n",
      "<re.Match object; span=(88, 92), match=':84)'>\n",
      "float_number_entity 84\n",
      "ip_address_entity: 172.30.70.63\n",
      "4787\n"
     ]
    },
    {
     "data": {
      "text/html": [
       "<span class=\"tex2jax_ignore\"><div class=\"entities\" style=\"line-height: 2.5; direction: ltr\">12-17 \n",
       "<mark class=\"entity\" style=\"background: #ddd; padding: 0.45em 0.6em; margin: 0 0.25em; line-height: 1; border-radius: 0.35em;\">\n",
       "    19\n",
       "    <span style=\"font-size: 0.8em; font-weight: bold; line-height: 1; border-radius: 0.35em; vertical-align: middle; margin-left: 0.5rem\">COMMON_NUMER</span>\n",
       "</mark>\n",
       ":31:\n",
       "<mark class=\"entity\" style=\"background: #ddd; padding: 0.45em 0.6em; margin: 0 0.25em; line-height: 1; border-radius: 0.35em;\">\n",
       "    36.344\n",
       "    <span style=\"font-size: 0.8em; font-weight: bold; line-height: 1; border-radius: 0.35em; vertical-align: middle; margin-left: 0.5rem\">FLOAT_NUMER</span>\n",
       "</mark>\n",
       " \n",
       "<mark class=\"entity\" style=\"background: #ddd; padding: 0.45em 0.6em; margin: 0 0.25em; line-height: 1; border-radius: 0.35em;\">\n",
       "    31949\n",
       "    <span style=\"font-size: 0.8em; font-weight: bold; line-height: 1; border-radius: 0.35em; vertical-align: middle; margin-left: 0.5rem\">COMMON_NUMER</span>\n",
       "</mark>\n",
       " 31967 i tcp : tcp.conn{\n",
       "<mark class=\"entity\" style=\"background: #ddd; padding: 0.45em 0.6em; margin: 0 0.25em; line-height: 1; border-radius: 0.35em;\">\n",
       "    4787\n",
       "    <span style=\"font-size: 0.8em; font-weight: bold; line-height: 1; border-radius: 0.35em; vertical-align: middle; margin-left: 0.5rem\">TID</span>\n",
       "</mark>\n",
       "} tcpsocket.connect_i(tcpsocket.java:\n",
       "<mark class=\"entity\" style=\"background: #ddd; padding: 0.45em 0.6em; margin: 0 0.25em; line-height: 1; border-radius: 0.35em;\">\n",
       "    84\n",
       "    <span style=\"font-size: 0.8em; font-weight: bold; line-height: 1; border-radius: 0.35em; vertical-align: middle; margin-left: 0.5rem\">COMMON_NUMER</span>\n",
       "</mark>\n",
       ") connecting to ip address uc.huawei.com/\n",
       "<mark class=\"entity\" style=\"background: #ddd; padding: 0.45em 0.6em; margin: 0 0.25em; line-height: 1; border-radius: 0.35em;\">\n",
       "    172.30.70.63\n",
       "    <span style=\"font-size: 0.8em; font-weight: bold; line-height: 1; border-radius: 0.35em; vertical-align: middle; margin-left: 0.5rem\">IP_ADDRESS</span>\n",
       "</mark>\n",
       " </div></span>"
      ]
     },
     "metadata": {},
     "output_type": "display_data"
    }
   ],
   "source": [
    "text=\"12-17 19:31:36.344 31949 31967 I TCP     : tcp.conn{4787} TcpSocket.connect_i(TcpSocket.java:84) connecting to ip address uc.huawei.com/172.30.70.63\"\n",
    "doc = nlp(text)\n",
    "spacy.displacy.render(doc, style=\"ent\")"
   ]
  },
  {
   "cell_type": "code",
   "execution_count": 6,
   "metadata": {},
   "outputs": [
    {
     "name": "stdout",
     "output_type": "stream",
     "text": [
      "text qti_sensors_hal: [acc]processreportind: x: 7.747251 y: 5.252448 z: 1.298289 x_offset:0.160831 y_offset:0.184366 z_offset:0.9850273 \n",
      "<re.Match object; span=(41, 52), match=': 7.747251 '>\n",
      "float_number_entity 7.747251\n",
      "<re.Match object; span=(53, 64), match=': 5.252448 '>\n",
      "float_number_entity 5.252448\n",
      "<re.Match object; span=(65, 76), match=': 1.298289 '>\n",
      "float_number_entity 1.298289\n",
      "<re.Match object; span=(84, 94), match=':0.160831 '>\n",
      "float_number_entity 0.160831\n",
      "<re.Match object; span=(102, 112), match=':0.184366 '>\n",
      "float_number_entity 0.184366\n",
      "<re.Match object; span=(120, 131), match=':0.9850273 '>\n",
      "float_number_entity 0.9850273\n",
      "text qti_sensors_hal: [acc]processreportind: x: 7.747251 y: 5.252448 z: 1.298289 x_offset:0.160831 y_offset:0.184366 z_offset:0.9850273 \n"
     ]
    },
    {
     "data": {
      "text/html": [
       "<span class=\"tex2jax_ignore\"><div class=\"entities\" style=\"line-height: 2.5; direction: ltr\">qti_sensors_hal: [acc]processreportind: x: \n",
       "<mark class=\"entity\" style=\"background: #ddd; padding: 0.45em 0.6em; margin: 0 0.25em; line-height: 1; border-radius: 0.35em;\">\n",
       "    7.747251\n",
       "    <span style=\"font-size: 0.8em; font-weight: bold; line-height: 1; border-radius: 0.35em; vertical-align: middle; margin-left: 0.5rem\">FLOAT_NUMER</span>\n",
       "</mark>\n",
       " y: \n",
       "<mark class=\"entity\" style=\"background: #ddd; padding: 0.45em 0.6em; margin: 0 0.25em; line-height: 1; border-radius: 0.35em;\">\n",
       "    5.252448\n",
       "    <span style=\"font-size: 0.8em; font-weight: bold; line-height: 1; border-radius: 0.35em; vertical-align: middle; margin-left: 0.5rem\">FLOAT_NUMER</span>\n",
       "</mark>\n",
       " z: \n",
       "<mark class=\"entity\" style=\"background: #ddd; padding: 0.45em 0.6em; margin: 0 0.25em; line-height: 1; border-radius: 0.35em;\">\n",
       "    1.298289\n",
       "    <span style=\"font-size: 0.8em; font-weight: bold; line-height: 1; border-radius: 0.35em; vertical-align: middle; margin-left: 0.5rem\">FLOAT_NUMER</span>\n",
       "</mark>\n",
       " x_offset:\n",
       "<mark class=\"entity\" style=\"background: #ddd; padding: 0.45em 0.6em; margin: 0 0.25em; line-height: 1; border-radius: 0.35em;\">\n",
       "    0.160831\n",
       "    <span style=\"font-size: 0.8em; font-weight: bold; line-height: 1; border-radius: 0.35em; vertical-align: middle; margin-left: 0.5rem\">FLOAT_NUMER</span>\n",
       "</mark>\n",
       " y_offset:\n",
       "<mark class=\"entity\" style=\"background: #ddd; padding: 0.45em 0.6em; margin: 0 0.25em; line-height: 1; border-radius: 0.35em;\">\n",
       "    0.184366\n",
       "    <span style=\"font-size: 0.8em; font-weight: bold; line-height: 1; border-radius: 0.35em; vertical-align: middle; margin-left: 0.5rem\">FLOAT_NUMER</span>\n",
       "</mark>\n",
       " z_offset:\n",
       "<mark class=\"entity\" style=\"background: #ddd; padding: 0.45em 0.6em; margin: 0 0.25em; line-height: 1; border-radius: 0.35em;\">\n",
       "    0.9850273\n",
       "    <span style=\"font-size: 0.8em; font-weight: bold; line-height: 1; border-radius: 0.35em; vertical-align: middle; margin-left: 0.5rem\">FLOAT_NUMER</span>\n",
       "</mark>\n",
       " </div></span>"
      ]
     },
     "metadata": {},
     "output_type": "display_data"
    }
   ],
   "source": [
    "text=\"qti_sensors_hal: [ACC]processReportInd: X: 7.747251 Y: 5.252448 Z: 1.298289  x_offset:0.160831 y_offset:0.184366 z_offset:0.9850273\"\n",
    "doc = nlp(text)\n",
    "spacy.displacy.render(doc, style=\"ent\")"
   ]
  },
  {
   "cell_type": "code",
   "execution_count": 7,
   "metadata": {},
   "outputs": [
    {
     "name": "stdout",
     "output_type": "stream",
     "text": [
      "text stackscrollalgorithm: overlapamount:763.6, previousnotificationend:607.0, newytranslation:-156.59998, location:2, i:1, gettoppadding:499.0, getlocationonscreen():-36 \n",
      "<re.Match object; span=(35, 42), match=':763.6,'>\n",
      "float_number_entity 763.6\n",
      "<re.Match object; span=(66, 73), match=':607.0,'>\n",
      "float_number_entity 607.0\n",
      "<re.Match object; span=(132, 139), match=':499.0,'>\n",
      "float_number_entity 499.0\n",
      "text stackscrollalgorithm: overlapamount:763.6, previousnotificationend:607.0, newytranslation:-156.59998, location:2, i:1, gettoppadding:499.0, getlocationonscreen():-36 \n",
      "<re.Match object; span=(35, 39), match=':763'>\n",
      "<re.Match object; span=(66, 70), match=':607'>\n",
      "<re.Match object; span=(89, 94), match=':-156'>\n",
      "<re.Match object; span=(110, 113), match=':2,'>\n",
      "float_number_entity 2\n",
      "<re.Match object; span=(115, 118), match=':1,'>\n",
      "float_number_entity 1\n",
      "<re.Match object; span=(132, 136), match=':499'>\n",
      "<re.Match object; span=(161, 166), match=':-36 '>\n",
      "float_number_entity -36\n"
     ]
    },
    {
     "data": {
      "text/html": [
       "<span class=\"tex2jax_ignore\"><div class=\"entities\" style=\"line-height: 2.5; direction: ltr\">stackscrollalgorithm: overlapamount:\n",
       "<mark class=\"entity\" style=\"background: #ddd; padding: 0.45em 0.6em; margin: 0 0.25em; line-height: 1; border-radius: 0.35em;\">\n",
       "    763.6\n",
       "    <span style=\"font-size: 0.8em; font-weight: bold; line-height: 1; border-radius: 0.35em; vertical-align: middle; margin-left: 0.5rem\">FLOAT_NUMER</span>\n",
       "</mark>\n",
       ", previousnotificationend:\n",
       "<mark class=\"entity\" style=\"background: #ddd; padding: 0.45em 0.6em; margin: 0 0.25em; line-height: 1; border-radius: 0.35em;\">\n",
       "    607.0\n",
       "    <span style=\"font-size: 0.8em; font-weight: bold; line-height: 1; border-radius: 0.35em; vertical-align: middle; margin-left: 0.5rem\">FLOAT_NUMER</span>\n",
       "</mark>\n",
       ", newytranslation:-156.59998, location:\n",
       "<mark class=\"entity\" style=\"background: #ddd; padding: 0.45em 0.6em; margin: 0 0.25em; line-height: 1; border-radius: 0.35em;\">\n",
       "    2\n",
       "    <span style=\"font-size: 0.8em; font-weight: bold; line-height: 1; border-radius: 0.35em; vertical-align: middle; margin-left: 0.5rem\">COMMON_NUMER</span>\n",
       "</mark>\n",
       ", i:\n",
       "<mark class=\"entity\" style=\"background: #ddd; padding: 0.45em 0.6em; margin: 0 0.25em; line-height: 1; border-radius: 0.35em;\">\n",
       "    1\n",
       "    <span style=\"font-size: 0.8em; font-weight: bold; line-height: 1; border-radius: 0.35em; vertical-align: middle; margin-left: 0.5rem\">COMMON_NUMER</span>\n",
       "</mark>\n",
       ", gettoppadding:\n",
       "<mark class=\"entity\" style=\"background: #ddd; padding: 0.45em 0.6em; margin: 0 0.25em; line-height: 1; border-radius: 0.35em;\">\n",
       "    499.0\n",
       "    <span style=\"font-size: 0.8em; font-weight: bold; line-height: 1; border-radius: 0.35em; vertical-align: middle; margin-left: 0.5rem\">FLOAT_NUMER</span>\n",
       "</mark>\n",
       ", getlocationonscreen():\n",
       "<mark class=\"entity\" style=\"background: #ddd; padding: 0.45em 0.6em; margin: 0 0.25em; line-height: 1; border-radius: 0.35em;\">\n",
       "    -36\n",
       "    <span style=\"font-size: 0.8em; font-weight: bold; line-height: 1; border-radius: 0.35em; vertical-align: middle; margin-left: 0.5rem\">COMMON_NUMER</span>\n",
       "</mark>\n",
       " </div></span>"
      ]
     },
     "metadata": {},
     "output_type": "display_data"
    }
   ],
   "source": [
    "text=\"StackScrollAlgorithm: overlapAmount:763.6, previousNotificationEnd:607.0, newYTranslation:-156.59998, location:2, i:1, getTopPadding:499.0, getLocationOnScreen():-36\"\n",
    "doc = nlp(text)\n",
    "spacy.displacy.render(doc, style=\"ent\")"
   ]
  },
  {
   "cell_type": "code",
   "execution_count": 8,
   "metadata": {},
   "outputs": [
    {
     "name": "stdout",
     "output_type": "stream",
     "text": [
      "text 12-17 19:31:38.256 1795 2668 e hwwifip2pservice: unhandled message when=123011428 what=143466 arg1=0 arg2=0 \n",
      "<re.Match object; span=(11, 19), match=':38.256 '>\n",
      "float_number_entity 38.256\n",
      "text 12-17 19:31:38.256 1795 2668 e hwwifip2pservice: unhandled message when=123011428 what=143466 arg1=0 arg2=0 \n",
      "<re.Match object; span=(5, 9), match=' 19:'>\n",
      "float_number_entity 19\n",
      "<re.Match object; span=(11, 14), match=':38'>\n",
      "<re.Match object; span=(18, 24), match=' 1795 '>\n",
      "float_number_entity 1795\n",
      "<re.Match object; span=(71, 82), match='=123011428 '>\n",
      "float_number_entity 123011428\n",
      "<re.Match object; span=(86, 94), match='=143466 '>\n",
      "float_number_entity 143466\n",
      "<re.Match object; span=(98, 101), match='=0 '>\n",
      "float_number_entity 0\n",
      "<re.Match object; span=(105, 108), match='=0 '>\n",
      "float_number_entity 0\n"
     ]
    },
    {
     "data": {
      "text/html": [
       "<span class=\"tex2jax_ignore\"><div class=\"entities\" style=\"line-height: 2.5; direction: ltr\">12-17 \n",
       "<mark class=\"entity\" style=\"background: #ddd; padding: 0.45em 0.6em; margin: 0 0.25em; line-height: 1; border-radius: 0.35em;\">\n",
       "    19\n",
       "    <span style=\"font-size: 0.8em; font-weight: bold; line-height: 1; border-radius: 0.35em; vertical-align: middle; margin-left: 0.5rem\">COMMON_NUMER</span>\n",
       "</mark>\n",
       ":31:\n",
       "<mark class=\"entity\" style=\"background: #ddd; padding: 0.45em 0.6em; margin: 0 0.25em; line-height: 1; border-radius: 0.35em;\">\n",
       "    38.256\n",
       "    <span style=\"font-size: 0.8em; font-weight: bold; line-height: 1; border-radius: 0.35em; vertical-align: middle; margin-left: 0.5rem\">FLOAT_NUMER</span>\n",
       "</mark>\n",
       " \n",
       "<mark class=\"entity\" style=\"background: #ddd; padding: 0.45em 0.6em; margin: 0 0.25em; line-height: 1; border-radius: 0.35em;\">\n",
       "    1795\n",
       "    <span style=\"font-size: 0.8em; font-weight: bold; line-height: 1; border-radius: 0.35em; vertical-align: middle; margin-left: 0.5rem\">COMMON_NUMER</span>\n",
       "</mark>\n",
       " 2668 e hwwifip2pservice: unhandled message when=\n",
       "<mark class=\"entity\" style=\"background: #ddd; padding: 0.45em 0.6em; margin: 0 0.25em; line-height: 1; border-radius: 0.35em;\">\n",
       "    123011428\n",
       "    <span style=\"font-size: 0.8em; font-weight: bold; line-height: 1; border-radius: 0.35em; vertical-align: middle; margin-left: 0.5rem\">COMMON_NUMER</span>\n",
       "</mark>\n",
       " what=\n",
       "<mark class=\"entity\" style=\"background: #ddd; padding: 0.45em 0.6em; margin: 0 0.25em; line-height: 1; border-radius: 0.35em;\">\n",
       "    143466\n",
       "    <span style=\"font-size: 0.8em; font-weight: bold; line-height: 1; border-radius: 0.35em; vertical-align: middle; margin-left: 0.5rem\">COMMON_NUMER</span>\n",
       "</mark>\n",
       " arg1=\n",
       "<mark class=\"entity\" style=\"background: #ddd; padding: 0.45em 0.6em; margin: 0 0.25em; line-height: 1; border-radius: 0.35em;\">\n",
       "    0\n",
       "    <span style=\"font-size: 0.8em; font-weight: bold; line-height: 1; border-radius: 0.35em; vertical-align: middle; margin-left: 0.5rem\">COMMON_NUMER</span>\n",
       "</mark>\n",
       " arg2=\n",
       "<mark class=\"entity\" style=\"background: #ddd; padding: 0.45em 0.6em; margin: 0 0.25em; line-height: 1; border-radius: 0.35em;\">\n",
       "    0\n",
       "    <span style=\"font-size: 0.8em; font-weight: bold; line-height: 1; border-radius: 0.35em; vertical-align: middle; margin-left: 0.5rem\">COMMON_NUMER</span>\n",
       "</mark>\n",
       " </div></span>"
      ]
     },
     "metadata": {},
     "output_type": "display_data"
    }
   ],
   "source": [
    "text=\"12-17 19:31:38.256  1795  2668 E HwWifiP2pService: Unhandled message when=123011428 what=143466 arg1=0 arg2=0\"\n",
    "doc = nlp(text)\n",
    "spacy.displacy.render(doc, style=\"ent\")"
   ]
  },
  {
   "cell_type": "code",
   "execution_count": 9,
   "metadata": {},
   "outputs": [
    {
     "name": "stdout",
     "output_type": "stream",
     "text": [
      "text 12-17 19:31:40.841 1795 1795 i mqos : rtt=250,tcp_tx_pkts=1480287,tcp_rx_pkts=1768498 \n",
      "<re.Match object; span=(11, 19), match=':40.841 '>\n",
      "float_number_entity 40.841\n",
      "text 12-17 19:31:40.841 1795 1795 i mqos : rtt=250,tcp_tx_pkts=1480287,tcp_rx_pkts=1768498 \n",
      "<re.Match object; span=(5, 9), match=' 19:'>\n",
      "float_number_entity 19\n",
      "<re.Match object; span=(11, 14), match=':40'>\n",
      "<re.Match object; span=(18, 24), match=' 1795 '>\n",
      "float_number_entity 1795\n",
      "<re.Match object; span=(41, 46), match='=250,'>\n",
      "float_number_entity 250\n",
      "<re.Match object; span=(57, 66), match='=1480287,'>\n",
      "float_number_entity 1480287\n",
      "<re.Match object; span=(77, 86), match='=1768498 '>\n",
      "float_number_entity 1768498\n"
     ]
    },
    {
     "data": {
      "text/html": [
       "<span class=\"tex2jax_ignore\"><div class=\"entities\" style=\"line-height: 2.5; direction: ltr\">12-17 \n",
       "<mark class=\"entity\" style=\"background: #ddd; padding: 0.45em 0.6em; margin: 0 0.25em; line-height: 1; border-radius: 0.35em;\">\n",
       "    19\n",
       "    <span style=\"font-size: 0.8em; font-weight: bold; line-height: 1; border-radius: 0.35em; vertical-align: middle; margin-left: 0.5rem\">COMMON_NUMER</span>\n",
       "</mark>\n",
       ":31:\n",
       "<mark class=\"entity\" style=\"background: #ddd; padding: 0.45em 0.6em; margin: 0 0.25em; line-height: 1; border-radius: 0.35em;\">\n",
       "    40.841\n",
       "    <span style=\"font-size: 0.8em; font-weight: bold; line-height: 1; border-radius: 0.35em; vertical-align: middle; margin-left: 0.5rem\">FLOAT_NUMER</span>\n",
       "</mark>\n",
       " \n",
       "<mark class=\"entity\" style=\"background: #ddd; padding: 0.45em 0.6em; margin: 0 0.25em; line-height: 1; border-radius: 0.35em;\">\n",
       "    1795\n",
       "    <span style=\"font-size: 0.8em; font-weight: bold; line-height: 1; border-radius: 0.35em; vertical-align: middle; margin-left: 0.5rem\">COMMON_NUMER</span>\n",
       "</mark>\n",
       " 1795 i mqos : rtt=\n",
       "<mark class=\"entity\" style=\"background: #ddd; padding: 0.45em 0.6em; margin: 0 0.25em; line-height: 1; border-radius: 0.35em;\">\n",
       "    250\n",
       "    <span style=\"font-size: 0.8em; font-weight: bold; line-height: 1; border-radius: 0.35em; vertical-align: middle; margin-left: 0.5rem\">COMMON_NUMER</span>\n",
       "</mark>\n",
       ",tcp_tx_pkts=\n",
       "<mark class=\"entity\" style=\"background: #ddd; padding: 0.45em 0.6em; margin: 0 0.25em; line-height: 1; border-radius: 0.35em;\">\n",
       "    1480287\n",
       "    <span style=\"font-size: 0.8em; font-weight: bold; line-height: 1; border-radius: 0.35em; vertical-align: middle; margin-left: 0.5rem\">COMMON_NUMER</span>\n",
       "</mark>\n",
       ",tcp_rx_pkts=\n",
       "<mark class=\"entity\" style=\"background: #ddd; padding: 0.45em 0.6em; margin: 0 0.25em; line-height: 1; border-radius: 0.35em;\">\n",
       "    1768498\n",
       "    <span style=\"font-size: 0.8em; font-weight: bold; line-height: 1; border-radius: 0.35em; vertical-align: middle; margin-left: 0.5rem\">COMMON_NUMER</span>\n",
       "</mark>\n",
       " </div></span>"
      ]
     },
     "metadata": {},
     "output_type": "display_data"
    }
   ],
   "source": [
    "text=\"12-17 19:31:40.841  1795  1795 I MQoS    : rtt=250,tcp_tx_pkts=1480287,tcp_rx_pkts=1768498\"\n",
    "doc = nlp(text)\n",
    "spacy.displacy.render(doc, style=\"ent\")"
   ]
  },
  {
   "cell_type": "code",
   "execution_count": 10,
   "metadata": {},
   "outputs": [
    {
     "name": "stdout",
     "output_type": "stream",
     "text": [
      "text i powermanager_screenon: displaypowerstatesetcolorfadelevel: level=1.07 \n",
      "<re.Match object; span=(66, 72), match='=1.07 '>\n",
      "float_number_entity 1.07\n",
      "text i powermanager_screenon: displaypowerstatesetcolorfadelevel: level=1.07 \n"
     ]
    },
    {
     "data": {
      "text/html": [
       "<span class=\"tex2jax_ignore\"><div class=\"entities\" style=\"line-height: 2.5; direction: ltr\">i powermanager_screenon: displaypowerstatesetcolorfadelevel: level=\n",
       "<mark class=\"entity\" style=\"background: #ddd; padding: 0.45em 0.6em; margin: 0 0.25em; line-height: 1; border-radius: 0.35em;\">\n",
       "    1.07\n",
       "    <span style=\"font-size: 0.8em; font-weight: bold; line-height: 1; border-radius: 0.35em; vertical-align: middle; margin-left: 0.5rem\">FLOAT_NUMER</span>\n",
       "</mark>\n",
       " </div></span>"
      ]
     },
     "metadata": {},
     "output_type": "display_data"
    }
   ],
   "source": [
    "text=\"I PowerManager_screenOn: DisplayPowerStatesetColorFadeLevel: level=1.07\"\n",
    "doc = nlp(text)\n",
    "spacy.displacy.render(doc, style=\"ent\")\n"
   ]
  }
 ],
 "metadata": {
  "kernelspec": {
   "display_name": "venv",
   "language": "python",
   "name": "python3"
  },
  "language_info": {
   "codemirror_mode": {
    "name": "ipython",
    "version": 3
   },
   "file_extension": ".py",
   "mimetype": "text/x-python",
   "name": "python",
   "nbconvert_exporter": "python",
   "pygments_lexer": "ipython3",
   "version": "3.12.9"
  }
 },
 "nbformat": 4,
 "nbformat_minor": 2
}
